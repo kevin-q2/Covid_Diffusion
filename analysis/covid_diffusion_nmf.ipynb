{
 "cells": [
  {
   "cell_type": "code",
   "execution_count": 1,
   "id": "77b84a41-6443-4cf0-a9ac-61410601cac7",
   "metadata": {},
   "outputs": [],
   "source": [
    "import sys\n",
    "import os\n",
    "import numpy as np\n",
    "import pandas as pd\n",
    "import folium\n",
    "import matplotlib.pyplot as plt\n",
    "import seaborn as sns\n",
    "from mpl_toolkits import mplot3d\n",
    "from mpl_toolkits.mplot3d import axes3d\n",
    "import networkx as nx\n",
    "\n",
    "cwd = os.getcwd()\n",
    "par = os.path.dirname(cwd)\n",
    "sys.path.append(par)\n",
    "\n",
    "# local functions\n",
    "import diffusionNMF\n",
    "import grid_search\n",
    "import data_generator\n",
    "import nmf\n",
    "from diffusionNMF import diffusionNMF\n",
    "from grid_search import gridSearcher\n",
    "from data_generator import gen_decomposition, gen_laplacian\n",
    "from nmf import nmf\n",
    "\n",
    "%load_ext autoreload\n",
    "%autoreload 2"
   ]
  },
  {
   "cell_type": "markdown",
   "id": "ddf0ef49-9cce-4d20-a856-740d4449f461",
   "metadata": {},
   "source": [
    "# US State Level Data"
   ]
  },
  {
   "cell_type": "code",
   "execution_count": null,
   "id": "f291a384-f7f6-47f5-8465-eee834b591f9",
   "metadata": {},
   "outputs": [],
   "source": []
  }
 ],
 "metadata": {
  "kernelspec": {
   "display_name": "Python 3",
   "language": "python",
   "name": "python3"
  },
  "language_info": {
   "codemirror_mode": {
    "name": "ipython",
    "version": 3
   },
   "file_extension": ".py",
   "mimetype": "text/x-python",
   "name": "python",
   "nbconvert_exporter": "python",
   "pygments_lexer": "ipython3",
   "version": "3.8.5"
  }
 },
 "nbformat": 4,
 "nbformat_minor": 5
}
